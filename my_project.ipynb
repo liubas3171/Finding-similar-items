{
  "cells": [
    {
      "cell_type": "markdown",
      "id": "66cf393b-b04a-4ab6-bf71-27b4f8f30f54",
      "metadata": {
        "id": "66cf393b-b04a-4ab6-bf71-27b4f8f30f54"
      },
      "source": [
        "# Data exploration and algorithms testing"
      ]
    },
    {
      "cell_type": "markdown",
      "id": "825a9f9b-38e7-4540-bad5-73c1eceb58d5",
      "metadata": {
        "id": "825a9f9b-38e7-4540-bad5-73c1eceb58d5"
      },
      "source": [
        "## Libraries import"
      ]
    },
    {
      "cell_type": "code",
      "execution_count": 2,
      "id": "f1a944a7-0d0b-4b31-9084-32d90397cb86",
      "metadata": {
        "colab": {
          "base_uri": "https://localhost:8080/"
        },
        "id": "f1a944a7-0d0b-4b31-9084-32d90397cb86",
        "outputId": "99550609-78a9-4027-85e5-c197d154655d"
      },
      "outputs": [
        {
          "output_type": "stream",
          "name": "stdout",
          "text": [
            "Requirement already satisfied: pyspark in /usr/local/lib/python3.11/dist-packages (3.5.1)\n",
            "Requirement already satisfied: py4j==0.10.9.7 in /usr/local/lib/python3.11/dist-packages (from pyspark) (0.10.9.7)\n"
          ]
        }
      ],
      "source": [
        "!apt-get install openjdk-8-jdk-headless -qq > /dev/null\n",
        "!wget -q http://archive.apache.org/dist/spark/spark-3.1.1/spark-3.1.1-bin-hadoop3.2.tgz\n",
        "!tar xf spark-3.1.1-bin-hadoop3.2.tgz\n",
        "\n",
        "!pip install -q findspark\n",
        "!pip install pyspark\n",
        "\n",
        "import findspark\n",
        "findspark.init()\n",
        "from pyspark.sql import SparkSession\n",
        "spark = SparkSession.builder.master(\"local[*]\").getOrCreate()\n",
        "spark.conf.set(\"spark.sql.repl.eagerEval.enabled\", True)\n",
        "sc = spark.sparkContext"
      ]
    },
    {
      "cell_type": "code",
      "execution_count": 3,
      "id": "5dbb8f9e-3095-4569-b552-8e2977cbe95f",
      "metadata": {
        "id": "5dbb8f9e-3095-4569-b552-8e2977cbe95f"
      },
      "outputs": [],
      "source": [
        "import os\n",
        "import pandas as pd\n",
        "import zipfile\n",
        "import re\n",
        "import sys\n",
        "import hashlib\n",
        "import time\n",
        "import shutil\n",
        "import matplotlib.pyplot as plt"
      ]
    },
    {
      "cell_type": "markdown",
      "id": "20caff35-f083-4599-bfad-f702c147d19a",
      "metadata": {
        "id": "20caff35-f083-4599-bfad-f702c147d19a"
      },
      "source": [
        "## Constants"
      ]
    },
    {
      "cell_type": "code",
      "execution_count": 40,
      "id": "b9b3171e-002f-414d-bd42-f5924d357c55",
      "metadata": {
        "id": "b9b3171e-002f-414d-bd42-f5924d357c55"
      },
      "outputs": [],
      "source": [
        "FULL_DF_SIZE = 3000000 # just for information\n",
        "DF_SIZE_EXPLORATION = 1000 # used in section data exploration... for tests on small sets\n",
        "DF_SIZE_FINAL_EXECUTION = 100000 # used in section Final execution of the algorithm\n",
        "SIMILARITY_THRESHOLD = 0.5 # Documents are considered similar is their silimarity is bigger, in the final execution\n",
        "\n",
        "DATAFILE_PATTERN = '^([^,]+),(.*)'\n",
        "AMAZON_SMALL_PATH = 'small_books.csv'\n",
        "STOPWORDS_PATH = 'stopwords.txt'\n",
        "BASE_DIR = os.path.join('')\n",
        "\n",
        "# used for visualisations below\n",
        "N_HASH = [10, 30, 80, 100, 200, 400, 1000]\n",
        "DATA_SIZES = [500, 1000, 3000, 10000, 20000, 50000]"
      ]
    },
    {
      "cell_type": "code",
      "execution_count": 41,
      "id": "cb2c21e0c843097",
      "metadata": {
        "colab": {
          "base_uri": "https://localhost:8080/"
        },
        "id": "cb2c21e0c843097",
        "outputId": "dbae5e1a-1b4a-4256-a213-f5364a8952c4"
      },
      "outputs": [
        {
          "output_type": "stream",
          "name": "stdout",
          "text": [
            "Dataset URL: https://www.kaggle.com/datasets/mohamedbakhet/amazon-books-reviews\n",
            "License(s): CC0-1.0\n",
            "amazon-books-reviews.zip: Skipping, found more recently modified local copy (use --force to force download)\n"
          ]
        }
      ],
      "source": [
        "# TODO paste your credentials here\n",
        "os.environ['KAGGLE_USERNAME'] = \"TODO PASTE\"\n",
        "os.environ['KAGGLE_KEY'] = \"TODO PASTE\"\n",
        "!kaggle datasets download -d mohamedbakhet/amazon-books-reviews\n"
      ]
    },
    {
      "cell_type": "markdown",
      "id": "29ad0cdf-965e-452b-86a2-0ffd63de3dbe",
      "metadata": {
        "id": "29ad0cdf-965e-452b-86a2-0ffd63de3dbe"
      },
      "source": [
        "## Creating small csv"
      ]
    },
    {
      "cell_type": "code",
      "source": [
        "def create_small_csv(size=DF_SIZE_EXPLORATION):\n",
        "    '''\n",
        "    Generates csv file with subset of first N=*size* rows of the full dataset\n",
        "    size: int, number of data rows in generated file\n",
        "    returns: str, filename generated\n",
        "    '''\n",
        "    with zipfile.ZipFile(\"amazon-books-reviews.zip\") as zip_folder:\n",
        "          with zip_folder.open(\"Books_rating.csv\") as file2:\n",
        "              df_ratings = pd.read_csv(file2, nrows=size)\n",
        "\n",
        "    df_ratings['Id'] = (df_ratings['Id'].apply(lambda x: str(x)) +\n",
        "                          df_ratings['User_id'].apply(lambda x: str(x)) +\n",
        "                          df_ratings['review/time'].apply(lambda x: str(x)))\n",
        "    filename = f\"small_books{size}.csv\"\n",
        "    df_ratings[['Id', 'review/text']].to_csv(filename, index=False)\n",
        "\n",
        "    del df_ratings\n",
        "\n",
        "    return filename"
      ],
      "metadata": {
        "id": "o9rWb0dGBtEJ"
      },
      "id": "o9rWb0dGBtEJ",
      "execution_count": 42,
      "outputs": []
    },
    {
      "cell_type": "code",
      "source": [
        "# create_small_csv(44)"
      ],
      "metadata": {
        "colab": {
          "base_uri": "https://localhost:8080/",
          "height": 36
        },
        "id": "dCIsZow2CdWn",
        "outputId": "3bc4101c-c2ec-495b-d137-8861f45d15f6"
      },
      "id": "dCIsZow2CdWn",
      "execution_count": null,
      "outputs": [
        {
          "output_type": "execute_result",
          "data": {
            "text/plain": [
              "'small_books44.csv'"
            ],
            "application/vnd.google.colaboratory.intrinsic+json": {
              "type": "string"
            }
          },
          "metadata": {},
          "execution_count": 47
        }
      ]
    },
    {
      "cell_type": "markdown",
      "id": "0fc12662-a2dd-49ed-aa15-d0c571ae778b",
      "metadata": {
        "id": "0fc12662-a2dd-49ed-aa15-d0c571ae778b"
      },
      "source": [
        "## Data preprocessing"
      ]
    },
    {
      "cell_type": "markdown",
      "source": [
        "Parsing and tokenization code was inspired by tutorial from the course page"
      ],
      "metadata": {
        "id": "04agSB_zdYIQ"
      },
      "id": "04agSB_zdYIQ"
    },
    {
      "cell_type": "markdown",
      "source": [
        "### Data parsing"
      ],
      "metadata": {
        "id": "h67_23lif1np"
      },
      "id": "h67_23lif1np"
    },
    {
      "cell_type": "code",
      "execution_count": 43,
      "id": "7d27eb5c-1b5e-4adb-b01c-8e2eadff35c7",
      "metadata": {
        "id": "7d27eb5c-1b5e-4adb-b01c-8e2eadff35c7"
      },
      "outputs": [],
      "source": [
        "def parse_datafile_line(datafile_line):\n",
        "    \"\"\"\n",
        "    Parse a line of the data file using the specified regular expression\n",
        "    pattern\n",
        "    datafile_line: str, input string that is a line from the data file\n",
        "    Returns: str, a string parsed using the given regular expression and without\n",
        "    the quote characters\n",
        "    \"\"\"\n",
        "    if isinstance(datafile_line, bytes):\n",
        "        datafile_line = datafile_line.decode(\"utf-8\")\n",
        "    match = re.search(DATAFILE_PATTERN, datafile_line)\n",
        "    if match is None:\n",
        "        return (datafile_line, -1)\n",
        "    elif match.group(1) == 'Id':\n",
        "        return (datafile_line, 0)\n",
        "    else:\n",
        "        review = f'{match.group(2)}'\n",
        "\n",
        "        res = ''.join(i for i in match.group(1) if i!='\"')\n",
        "        return ((res, review), 1)"
      ]
    },
    {
      "cell_type": "code",
      "execution_count": 44,
      "id": "e38739eb-1ac2-45d5-8e8f-05481f469568",
      "metadata": {
        "id": "e38739eb-1ac2-45d5-8e8f-05481f469568"
      },
      "outputs": [],
      "source": [
        "def load_data(path):\n",
        "    \"\"\" Loads a data file\n",
        "    path: str, input file name of the data file\n",
        "    Returns: RDD of parsed valid lines\n",
        "    \"\"\"\n",
        "    filename = os.path.join(BASE_DIR, path)\n",
        "    raw = sc.textFile(filename, 4, 0).map(parse_datafile_line).cache()\n",
        "    failed_n = (raw\n",
        "              .filter(lambda s: s[1] == -1)\n",
        "              .map(lambda s: s[0])\n",
        "              .count())\n",
        "    valid = (raw\n",
        "             .filter(lambda s: s[1] == 1)\n",
        "             .map(lambda s: s[0])\n",
        "             .cache())\n",
        "\n",
        "    print(f'{path} - Read {raw.count()} lines, successfully parsed {valid.count()} lines, failed to parse {failed_n} lines')\n",
        "\n",
        "    return valid"
      ]
    },
    {
      "cell_type": "markdown",
      "source": [
        "Loading small dataset for simple tests through the notebook"
      ],
      "metadata": {
        "id": "5FKWgsS3gKTZ"
      },
      "id": "5FKWgsS3gKTZ"
    },
    {
      "cell_type": "code",
      "execution_count": 45,
      "id": "f7830e6d-c0b0-487c-b30f-ad6eca53cf52",
      "metadata": {
        "colab": {
          "base_uri": "https://localhost:8080/"
        },
        "id": "f7830e6d-c0b0-487c-b30f-ad6eca53cf52",
        "outputId": "b9a8b595-a172-4fb9-a0f3-6e83d8189768"
      },
      "outputs": [
        {
          "output_type": "stream",
          "name": "stdout",
          "text": [
            "small_books1000.csv - Read 1001 lines, successfully parsed 1000 lines, failed to parse 0 lines\n"
          ]
        }
      ],
      "source": [
        "amazon_small = load_data(create_small_csv(DF_SIZE_EXPLORATION))"
      ]
    },
    {
      "cell_type": "code",
      "execution_count": 46,
      "id": "eaf730fe-6ba4-4b5b-91d3-4f46964dfcc2",
      "metadata": {
        "colab": {
          "base_uri": "https://localhost:8080/"
        },
        "id": "eaf730fe-6ba4-4b5b-91d3-4f46964dfcc2",
        "outputId": "a5fc2c5f-0f1c-4438-a466-90b9cc5b786f"
      },
      "outputs": [
        {
          "output_type": "stream",
          "name": "stdout",
          "text": [
            "('1882931173AVCGYZL8FQQTD940636800', '\"This is only for Julie Strain fans. It\\'s a collection of her photos -- about 80 pages worth with a nice section of paintings by Olivia.If you\\'re looking for heavy literary content, this isn\\'t the place to find it -- there\\'s only about 2 pages with text and everything else is photos.Bottom line: if you only want one book, the Six Foot One ... is probably a better choice, however, if you like Julie like I like Julie, you won\\'t go wrong on this one either.\"')\n"
          ]
        }
      ],
      "source": [
        "for line in amazon_small.take(1):\n",
        "    print(line)"
      ]
    },
    {
      "cell_type": "markdown",
      "id": "c561fea9-a4f0-4d54-bdb2-b783a91aa7da",
      "metadata": {
        "id": "c561fea9-a4f0-4d54-bdb2-b783a91aa7da"
      },
      "source": [
        "### Tokenization"
      ]
    },
    {
      "cell_type": "code",
      "execution_count": 47,
      "id": "d44ddde9-8d7c-418a-8664-619551f95b33",
      "metadata": {
        "id": "d44ddde9-8d7c-418a-8664-619551f95b33"
      },
      "outputs": [],
      "source": [
        "split_regex = r'\\W+'\n",
        "\n",
        "def simple_tokenize(string):\n",
        "    \"\"\"\n",
        "    String tokenization\n",
        "    string: str, input string\n",
        "    Returns: a list of tokens\n",
        "    \"\"\"\n",
        "    return [s for s in re.split(split_regex, string.lower()) if s != '']"
      ]
    },
    {
      "cell_type": "code",
      "execution_count": 48,
      "id": "19f5a7b7-454b-456a-ad7e-5d1071042012",
      "metadata": {
        "id": "19f5a7b7-454b-456a-ad7e-5d1071042012"
      },
      "outputs": [],
      "source": [
        "stopfile = os.path.join(BASE_DIR, STOPWORDS_PATH)\n",
        "stopwords = set(sc.textFile(stopfile).collect())\n",
        "\n",
        "def tokenize(string):\n",
        "    \"\"\"\n",
        "    String tokenization that excludes stopwords\n",
        "    string: str, input string\n",
        "    Returns: list of tokens without stopwords\n",
        "    \"\"\"\n",
        "    return [s for s in re.split(split_regex, string.lower())\n",
        "            if s != '' and not s in stopwords]"
      ]
    },
    {
      "cell_type": "code",
      "execution_count": 49,
      "id": "c0dfd1c6-168d-4edd-9cd4-5b9abf03de18",
      "metadata": {
        "id": "c0dfd1c6-168d-4edd-9cd4-5b9abf03de18",
        "colab": {
          "base_uri": "https://localhost:8080/"
        },
        "outputId": "a06e0747-eeee-496b-d1f8-e7e93c7f75b4"
      },
      "outputs": [
        {
          "output_type": "stream",
          "name": "stdout",
          "text": [
            "[('1882931173AVCGYZL8FQQTD940636800', ['julie', 'strain', 'fans', 'collection', 'photos', '80', 'pages', 'worth', 'nice', 'section', 'paintings', 'olivia', 're', 'looking', 'heavy', 'literary', 'content', 'isn', 'place', 'find', '2', 'pages', 'text', 'everything', 'else', 'photos', 'bottom', 'line', 'want', 'one', 'book', 'six', 'foot', 'one', 'probably', 'better', 'choice', 'however', 'like', 'julie', 'like', 'like', 'julie', 'won', 'go', 'wrong', 'one', 'either'])]\n"
          ]
        }
      ],
      "source": [
        "print(amazon_small.map(lambda s: (s[0], tokenize(s[1]))).take(1))"
      ]
    },
    {
      "cell_type": "markdown",
      "id": "c352b764-f8d6-44f6-8b28-3397b8867ccd",
      "metadata": {
        "id": "c352b764-f8d6-44f6-8b28-3397b8867ccd"
      },
      "source": [
        "## Jaccard similarity"
      ]
    },
    {
      "cell_type": "code",
      "execution_count": 50,
      "id": "ff2bb069-1a38-4705-a2e4-bba74ee7287d",
      "metadata": {
        "id": "ff2bb069-1a38-4705-a2e4-bba74ee7287d"
      },
      "outputs": [],
      "source": [
        "def jaccard_similarity(list1, list2):\n",
        "    '''\n",
        "    Caclulates Jaccard similarity of 2 lists\n",
        "    returns: float, similarity rate\n",
        "    '''\n",
        "    set1, set2 = set(list1), set(list2)\n",
        "    intersect = len(set1.intersection(set2))\n",
        "    union = len(set1.union(set2))\n",
        "\n",
        "    return intersect / union"
      ]
    },
    {
      "cell_type": "code",
      "execution_count": 51,
      "id": "1fdb1359-d96a-4568-956d-9bc52f551f57",
      "metadata": {
        "colab": {
          "base_uri": "https://localhost:8080/"
        },
        "id": "1fdb1359-d96a-4568-956d-9bc52f551f57",
        "outputId": "98db04b1-92db-4087-f239-dd15b1a3689a"
      },
      "outputs": [
        {
          "output_type": "execute_result",
          "data": {
            "text/plain": [
              "0.5"
            ]
          },
          "metadata": {},
          "execution_count": 51
        }
      ],
      "source": [
        "jaccard_similarity(['I', 'am', 'batman', 'super', 'cool'], ['I', 'am', 'superman', 'cool'])"
      ]
    },
    {
      "cell_type": "markdown",
      "id": "a701ea4e-6344-40be-b76b-fe08ed950689",
      "metadata": {
        "id": "a701ea4e-6344-40be-b76b-fe08ed950689"
      },
      "source": [
        "### Brute force approach"
      ]
    },
    {
      "cell_type": "markdown",
      "id": "f5c592df-9f99-41e7-a66c-4e456acbc1f5",
      "metadata": {
        "id": "f5c592df-9f99-41e7-a66c-4e456acbc1f5"
      },
      "source": [
        "Calculating Jaccard similarity with every pair of lines"
      ]
    },
    {
      "cell_type": "code",
      "execution_count": 52,
      "id": "a8318de0-bf87-4be2-b79f-1735a99d3157",
      "metadata": {
        "colab": {
          "base_uri": "https://localhost:8080/"
        },
        "id": "a8318de0-bf87-4be2-b79f-1735a99d3157",
        "outputId": "6f1ab0d7-9d6b-41cb-e4b3-e671357f2c1b"
      },
      "outputs": [
        {
          "output_type": "execute_result",
          "data": {
            "text/plain": [
              "[(('1882931173AVCGYZL8FQQTD940636800',\n",
              "   '\"This is only for Julie Strain fans. It\\'s a collection of her photos -- about 80 pages worth with a nice section of paintings by Olivia.If you\\'re looking for heavy literary content, this isn\\'t the place to find it -- there\\'s only about 2 pages with text and everything else is photos.Bottom line: if you only want one book, the Six Foot One ... is probably a better choice, however, if you like Julie like I like Julie, you won\\'t go wrong on this one either.\"'),\n",
              "  ('1882931173AVCGYZL8FQQTD940636800',\n",
              "   '\"This is only for Julie Strain fans. It\\'s a collection of her photos -- about 80 pages worth with a nice section of paintings by Olivia.If you\\'re looking for heavy literary content, this isn\\'t the place to find it -- there\\'s only about 2 pages with text and everything else is photos.Bottom line: if you only want one book, the Six Foot One ... is probably a better choice, however, if you like Julie like I like Julie, you won\\'t go wrong on this one either.\"'))]"
            ]
          },
          "metadata": {},
          "execution_count": 52
        }
      ],
      "source": [
        "cross_small = (amazon_small\n",
        "                .cartesian(amazon_small)\n",
        "                .cache())\n",
        "cross_small.take(1)"
      ]
    },
    {
      "cell_type": "code",
      "execution_count": 53,
      "id": "2ada5e35-7a93-460a-b223-184a252f3eea",
      "metadata": {
        "id": "2ada5e35-7a93-460a-b223-184a252f3eea"
      },
      "outputs": [],
      "source": [
        "def compute_similarity(combined_line):\n",
        "    \"\"\"\n",
        "    Computes similarity on a combination record\n",
        "    combined_line: tuple, ((id1, value1), (id2, value2))\n",
        "    pair: tuple, (id1, id2, jaccard similarity)\n",
        "    \"\"\"\n",
        "    res = jaccard_similarity(tokenize(combined_line[0][1]),\n",
        "                             tokenize(combined_line[1][1]))\n",
        "    return (combined_line[0][0], combined_line[1][0], res)"
      ]
    },
    {
      "cell_type": "code",
      "execution_count": 54,
      "id": "4a51cec4-37b9-4d58-bd30-868cf46cd084",
      "metadata": {
        "id": "4a51cec4-37b9-4d58-bd30-868cf46cd084",
        "colab": {
          "base_uri": "https://localhost:8080/"
        },
        "outputId": "0ad942bc-ac99-4093-8c36-6af415f8d781"
      },
      "outputs": [
        {
          "output_type": "stream",
          "name": "stdout",
          "text": [
            "[('1882931173AVCGYZL8FQQTD940636800', '1882931173AVCGYZL8FQQTD940636800', 1.0), ('1882931173AVCGYZL8FQQTD940636800', '0826414346A30TK6U7DNS82R1095724800', 0.01948051948051948)]\n"
          ]
        }
      ],
      "source": [
        "similarities = (cross_small\n",
        "                .map(lambda r: compute_similarity(r))\n",
        "                .cache())\n",
        "print(similarities.take(2))"
      ]
    },
    {
      "cell_type": "markdown",
      "source": [
        "Take some highly similar values (but not identical)"
      ],
      "metadata": {
        "id": "xMlOZcorg8Il"
      },
      "id": "xMlOZcorg8Il"
    },
    {
      "cell_type": "code",
      "execution_count": 55,
      "id": "82088dd8-043c-4068-8baf-45da68456c63",
      "metadata": {
        "colab": {
          "base_uri": "https://localhost:8080/"
        },
        "id": "82088dd8-043c-4068-8baf-45da68456c63",
        "outputId": "835df62a-4372-4bae-99c6-7823c550074f"
      },
      "outputs": [
        {
          "output_type": "execute_result",
          "data": {
            "text/plain": [
              "[('0517150328AMKC1EJBUXDS2989107200',\n",
              "  '0517150328AMKC1EJBUXDS2989107200',\n",
              "  0.9904306220095693),\n",
              " ('0517150328AMKC1EJBUXDS2989107200',\n",
              "  '0517150328AMKC1EJBUXDS2989107200',\n",
              "  0.9904306220095693),\n",
              " ('0791054608A3778VKGYVZ76Q960163200', '0791054608nan960163200', 0.86),\n",
              " ('0791054608nan960163200', '0791054608A3778VKGYVZ76Q960163200', 0.86),\n",
              " ('B0000630MUnan1046649600', 'B0000630MUnan1046649600', 0.8484848484848485)]"
            ]
          },
          "metadata": {},
          "execution_count": 55
        }
      ],
      "source": [
        "some_similarities = similarities.filter(lambda p: p[2] < 1).takeOrdered(5, key=lambda s: -s[2])\n",
        "actual_res = some_similarities[0][2]\n",
        "some_similarities"
      ]
    },
    {
      "cell_type": "markdown",
      "id": "5a94b855-74ec-4301-91cd-409b3e40c6fa",
      "metadata": {
        "id": "5a94b855-74ec-4301-91cd-409b3e40c6fa"
      },
      "source": [
        "### Minhash approach"
      ]
    },
    {
      "cell_type": "code",
      "execution_count": 56,
      "id": "237420a9-0579-423b-a4f0-5234a811e600",
      "metadata": {
        "id": "237420a9-0579-423b-a4f0-5234a811e600"
      },
      "outputs": [],
      "source": [
        "def minhash_signature(data_str, num_hashes=80):\n",
        "    '''\n",
        "    Calculates minhash signature for row\n",
        "    data_str: str, raw document\n",
        "    num_hashes: number of hash functions\n",
        "\n",
        "    returns: list, hash signature of document\n",
        "    '''\n",
        "    minhash = [float('inf')] * num_hashes\n",
        "\n",
        "    for num in tokenize(data_str):\n",
        "        for num_hash in range(num_hashes):\n",
        "            hash_val = int(hashlib.sha1(str(num).encode() +\n",
        "                                        str(num_hash).encode()).hexdigest(), 16) % 10**6\n",
        "            minhash[num_hash] = min(minhash[num_hash], hash_val)\n",
        "\n",
        "    return minhash"
      ]
    },
    {
      "cell_type": "markdown",
      "source": [
        "Displaying pair with the highest similarity from above and calculating Jaccard similarity based on signature"
      ],
      "metadata": {
        "id": "44H7CaD1EVlh"
      },
      "id": "44H7CaD1EVlh"
    },
    {
      "cell_type": "code",
      "source": [
        "data = cross_small.filter(lambda p: p[0][0]==some_similarities[0][0]\n",
        "                   and p[1][0]==some_similarities[0][1]).collect()[0]\n",
        "minhash_res = jaccard_similarity(minhash_signature(data[0][1]), minhash_signature(data[1][1]))\n",
        "data"
      ],
      "metadata": {
        "colab": {
          "base_uri": "https://localhost:8080/"
        },
        "id": "ptqD3BRaYHpL",
        "outputId": "4a89c84c-75eb-4c0d-e58b-74e71f4b2860"
      },
      "id": "ptqD3BRaYHpL",
      "execution_count": 57,
      "outputs": [
        {
          "output_type": "execute_result",
          "data": {
            "text/plain": [
              "(('0517150328AMKC1EJBUXDS2989107200',\n",
              "  '\"Kurt Seligmann, Surrealist artist par excellence, admitted &amp; unashamed bibliophile, has ravaged his occult library in a miraculous marriage giving birth to this classic historical account of Magic and Occultism; entirely written for the proverbial \\'man about the street\\', and a very cosmic avenue is here tread in an admireable chronological ordering of the various mystical houses. Addressing all the various occult(semantic definition of &quot;hidden &amp; rejected knowledge&quot;) routes via the shortcut of this Art Historian\\'s scholarly mind, as a whole this work is one of the best and most easily approachable &quot;magic histories&quot; for those who have no previous knowledge concerning occultism except an undeniable interest and fascination with the mysterious and the spiritual.Kurt Seligmann is darkly fascinated and explores endlessly the multitude of historic beliefs concerning the study of the nature of evil... such as black magic, necromancy, Elizabethian era conjurers and their Enochian magic,primitive rites, evocations of the Cultus Satanus, Goetia Demonomania, et.al....as an example, early on he discusses Chaldean phliosophies in which: &quot;Evil was born from God\\'s disturbing thoughts&quot;...I have long wondered if the proposed thoughts had to do specifically with humanity?...and this book will surely set the fire or fan the sulphurous flames of those burning to know more about all things occult.The book primarily deals with Western Esoteric Traditions, which, being a westerner, appeals to my insatiable explorative appetite in studying and discovering the divinity of humankind and the accorded propensity &amp; potentials of individual spiritual progress through Magick and the strengthening of divine will ; in comparison with more Eastern idealogies concerned with mystical enlightenment and the abolishing of the ego to attain Nirvana.In summation, Kurt Seligmann, as one of the last efforts of his exemplary artistic journey throughout the early 20th century avant-garde, has given the world a completely unbiased in-depth world history from a magical perspective, a genuine labor of love which will always retain its intimately artistic personality in contrast to the strict scholarly treatise of the newspaper skeptic variety; and although there are better, more developed and intrigueing accounts out there, none are at the moment so readily available and economic, nor so expressive, or conclusively compact as this. Finally, the book has over a hundred and fifty illustrations from alchemical treatise and magical grimoires which compliment his descriptive writing style.It is besides all this, another exclamation point puncuating the Surrealist movement. surrealyours, an occultist.\"'),\n",
              " ('0517150328AMKC1EJBUXDS2989107200',\n",
              "  '\"Kurt Seligmann, Surrealist artist par excellence, admitted &amp; unashamed bibliophile, has ravaged his occult library in a miraculous marriage giving birth to this classic historical account of Magic and Occultism; entirely written for the proverbial \\'man about the street\\', and a very cosmic avenue is here tread in an admireable chronological ordering of the various mystical houses. Addressing all the various occult(semantic definition of &quot;hidden &amp; rejected knowledge&quot;) routes via the shortcut of this Art Historian\\'s scholarly mind, as a whole this work is one of the best and most easily approachable &quot;magic histories&quot; for those who have no previous knowledge concerning occultism except an undeniable interest and fascination with the mysterious and the spiritual.Kurt Seligmann is darkly fascinated and explores endlessly the multitude of historic beliefs concerning the study of the nature of evil... such as black magic, necromancy, Elizabethian era conjurers and their Enochian magic,primitive rites, evocations of the Cultus Satanus, Goetia Demonomania, et.al....as an example, early on he discusses Chaldean phliosophies in which: &quot;Evil was born from God\\'s disturbing thoughts&quot;...I have long wondered if the proposed thoughts had to do specifically with humanity?...and this book will surely set the fire or fan the sulphurous flames of those burning to know more about all things occult.The book primarily deals with Western Esoteric Traditions, which, being a westerner, appeals to my insatiable explorative appetite in studying and discovering the divinity of humankind and the accorded propensity &amp; potentials of individual spiritual progress through Magick and the strengthening of divine will ; in comparison with more Eastern idealogies concerned with mystical enlightenment and the abolishing of the ego to attain Nirvana.In summation, Kurt Seligmann, as one of the last efforts of his exemplary artistic journey throughout the early 20th century avant-garde, has given the world a completely unbiased in-depth world history from a magical perspective, a genuine labor of love which will always retain its intimately artistic personality in contrast to the strict scholarly treatise of the newspaper skeptic variety; and although there are better, more developed and intrigueing accounts out there, none are at the moment so readily available and economic, nor so expressive, or conclusively compact as this. Finally, the book has over a hundred and fifty illustrations from alchemical treatise and magical grimoires which compliment his descriptive writing style.It is besides all this, another exclamation point puncuating the Surrealist movement. surrealyours, an occultist.\"'))"
            ]
          },
          "metadata": {},
          "execution_count": 57
        }
      ]
    },
    {
      "cell_type": "code",
      "execution_count": 58,
      "id": "29b9693a-86ba-4407-8fa1-8c4a22b1bead",
      "metadata": {
        "colab": {
          "base_uri": "https://localhost:8080/"
        },
        "id": "29b9693a-86ba-4407-8fa1-8c4a22b1bead",
        "outputId": "d01bd535-87e0-4ae2-c512-58b0f9ee3612"
      },
      "outputs": [
        {
          "output_type": "stream",
          "name": "stdout",
          "text": [
            "Highly similar lines. Actual similarity: 0.99, Minhash similarity: 1.0\n"
          ]
        }
      ],
      "source": [
        "print(f'Highly similar lines. Actual similarity: {round(actual_res, 3)}, Minhash similarity: {round(minhash_res, 3)}')"
      ]
    },
    {
      "cell_type": "markdown",
      "id": "sGUNKQZGkbpI",
      "metadata": {
        "id": "sGUNKQZGkbpI"
      },
      "source": [
        "#### Validation of parameter n for minhash"
      ]
    },
    {
      "cell_type": "markdown",
      "source": [
        "This section contains visualisations with different number of hash functions applied"
      ],
      "metadata": {
        "id": "YO1lHhba7dmF"
      },
      "id": "YO1lHhba7dmF"
    },
    {
      "cell_type": "markdown",
      "id": "wTPZ6BIXOT2D",
      "metadata": {
        "id": "wTPZ6BIXOT2D"
      },
      "source": [
        "##### Mean Absolute Errors (visualization)\n",
        "\n",
        "\n"
      ]
    },
    {
      "cell_type": "markdown",
      "source": [
        "Calculation of Mean Absolute Error between Jaccard similarity calculated explicitly vs via Minhash signatures"
      ],
      "metadata": {
        "id": "FSyKFS6r26Qb"
      },
      "id": "FSyKFS6r26Qb"
    },
    {
      "cell_type": "code",
      "source": [
        "def calculate_and_plot_errors(cartesian_rdd=cross_small, n_hash=N_HASH):\n",
        "    '''\n",
        "    Calculates Jaccard similarity mean absolute error between minhash and actual value\n",
        "    cartesian_rdd: rdd where each line is of format ((id1: str, line1: str), (id2: str, line2: str))\n",
        "    n_hash: list, numbers of hash functions to try\n",
        "    returns: list of MAE errors for each n of hashes\n",
        "    '''\n",
        "    res_errors = []\n",
        "\n",
        "    for n in n_hash:\n",
        "        similarities_compared = cartesian_rdd.map(lambda p:\n",
        "                                                  (p[0][0], p[1][0],\n",
        "                                                  jaccard_similarity(tokenize(p[0][1]), tokenize(p[1][1])),\n",
        "                                                  jaccard_similarity(minhash_signature(p[0][1], n),\n",
        "                                                                      minhash_signature(p[1][1], n)))\n",
        "                                                  ).cache()\n",
        "        res_temp = similarities_compared.map(lambda x: abs(x[2]-x[3])).mean()\n",
        "        res_errors.append(res_temp)\n",
        "        print('Finished for n = ', n)\n",
        "\n",
        "    plt.figure(figsize=(8, 5))\n",
        "    plt.plot(n_hash, res_errors, marker='o', linestyle='-', color='blue', label='Error vs. #Hashes')\n",
        "    plt.title(\"Error vs. Number of Hash Functions\")\n",
        "    plt.xlabel(\"Number of Hash Functions\")\n",
        "    plt.ylabel(\"Error (MAE)\")\n",
        "    plt.grid(True)\n",
        "    plt.legend()\n",
        "    plt.tight_layout()\n",
        "    plt.show()\n",
        "\n",
        "    return res_errors"
      ],
      "metadata": {
        "id": "Heva7E4kxFR7"
      },
      "id": "Heva7E4kxFR7",
      "execution_count": 59,
      "outputs": []
    },
    {
      "cell_type": "code",
      "execution_count": null,
      "id": "eARhof2_LArX",
      "metadata": {
        "id": "eARhof2_LArX",
        "colab": {
          "base_uri": "https://localhost:8080/",
          "height": 767
        },
        "outputId": "3b3d85b5-9879-45e7-d15b-181f77015bc8"
      },
      "outputs": [
        {
          "output_type": "stream",
          "name": "stdout",
          "text": [
            "small_books50.csv - Read 51 lines, successfully parsed 50 lines, failed to parse 0 lines\n",
            "Finished for n =  10\n",
            "Finished for n =  30\n",
            "Finished for n =  80\n",
            "Finished for n =  100\n",
            "Finished for n =  200\n",
            "Finished for n =  400\n",
            "Finished for n =  1000\n"
          ]
        },
        {
          "output_type": "display_data",
          "data": {
            "text/plain": [
              "<Figure size 800x500 with 1 Axes>"
            ],
            "image/png": "[encoded data removed]"
          },
          "metadata": {}
        },
        {
          "output_type": "execute_result",
          "data": {
            "text/plain": [
              "[0.03339768954005612,\n",
              " 0.018102941265247384,\n",
              " 0.013267128874629677,\n",
              " 0.01462758104370832,\n",
              " 0.013146894185612854,\n",
              " 0.012165066907269574,\n",
              " 0.010670893805624488]"
            ]
          },
          "metadata": {},
          "execution_count": 19
        }
      ],
      "source": [
        "# May take some time\n",
        "\n",
        "amazon_small_ = load_data(create_small_csv(50))\n",
        "cross_small_ = (amazon_small_\n",
        "                .cartesian(amazon_small_)\n",
        "                .cache())\n",
        "\n",
        "calculate_and_plot_errors(cross_small_)"
      ]
    },
    {
      "cell_type": "markdown",
      "id": "3XjfxaSqP4CK",
      "metadata": {
        "id": "3XjfxaSqP4CK"
      },
      "source": [
        "##### Execution time (visualization)"
      ]
    },
    {
      "cell_type": "code",
      "execution_count": 60,
      "id": "hJhkAPiPP7KN",
      "metadata": {
        "id": "hJhkAPiPP7KN"
      },
      "outputs": [],
      "source": [
        "def calculate_and_plot_exec_time(cross_small_bigger=cross_small, n_hash=N_HASH, n_repeats=1):\n",
        "    '''\n",
        "    Calculates and plots execution time depending on number of hash functions for minhash\n",
        "\n",
        "    cross_small_bigger: rdd where each line is of format ((id1: str, line1: str), (id2: str, line2: str))\n",
        "    n_hash: list, numbers of hash functions to try\n",
        "    n_repeats: int, number of repeats of calculations to get more precise time\n",
        "\n",
        "    returns: list with execution time for every n_hash\n",
        "    '''\n",
        "    res_time_minhash = []\n",
        "\n",
        "    for n in n_hash:\n",
        "        temp_lst_minhash = []\n",
        "        for repeat in range(n_repeats):\n",
        "            start = time.time()\n",
        "            similarities_calculated = cross_small_bigger.map(lambda p:\n",
        "                                                      (jaccard_similarity(minhash_signature(p[0][1], n),\n",
        "                                                                          minhash_signature(p[1][1], n)))).collect()\n",
        "            end = time.time()\n",
        "            temp_lst_minhash.append(end-start)\n",
        "\n",
        "        res_time_minhash.append(sum(temp_lst_minhash)/len(temp_lst_minhash))\n",
        "        print('Finished for n = ', n)\n",
        "\n",
        "    plt.figure(figsize=(8, 5))\n",
        "    plt.plot(n_hash, res_time_minhash, marker='o', linestyle='-', color='blue', label='Minhash')\n",
        "    plt.title(\"Time vs. Number of Hash Functions\")\n",
        "    plt.xlabel(\"Number of Hash Functions\")\n",
        "    plt.ylabel(\"Time\")\n",
        "    plt.grid(True)\n",
        "    plt.legend()\n",
        "    plt.tight_layout()\n",
        "    plt.show()\n",
        "\n",
        "    return res_time_minhash"
      ]
    },
    {
      "cell_type": "code",
      "source": [
        "# Takes a bit of time, visualisations from the chart\n",
        "\n",
        "amazon_small_ = load_data(create_small_csv(50))\n",
        "cross_small_ = (amazon_small_\n",
        "                .cartesian(amazon_small_)\n",
        "                .cache())\n",
        "\n",
        "calculate_and_plot_exec_time(cross_small_, n_hash=N_HASH)"
      ],
      "metadata": {
        "id": "b1gycwhw4LDy",
        "colab": {
          "base_uri": "https://localhost:8080/",
          "height": 767
        },
        "outputId": "c3d6ef56-6ac1-487d-83b4-dae2c88133a9"
      },
      "id": "b1gycwhw4LDy",
      "execution_count": 61,
      "outputs": [
        {
          "output_type": "stream",
          "name": "stdout",
          "text": [
            "small_books50.csv - Read 51 lines, successfully parsed 50 lines, failed to parse 0 lines\n",
            "Finished for n =  10\n",
            "Finished for n =  30\n",
            "Finished for n =  80\n",
            "Finished for n =  100\n",
            "Finished for n =  200\n",
            "Finished for n =  400\n",
            "Finished for n =  1000\n"
          ]
        },
        {
          "output_type": "display_data",
          "data": {
            "text/plain": [
              "<Figure size 800x500 with 1 Axes>"
            ],
            "image/png": "[encoded data removed]"
          },
          "metadata": {}
        },
        {
          "output_type": "execute_result",
          "data": {
            "text/plain": [
              "[9.471442699432373,\n",
              " 24.22456645965576,\n",
              " 61.36831593513489,\n",
              " 75.61748576164246,\n",
              " 148.47736597061157,\n",
              " 303.8596806526184,\n",
              " 740.7393310070038]"
            ]
          },
          "metadata": {},
          "execution_count": 61
        }
      ]
    },
    {
      "cell_type": "markdown",
      "source": [
        "Since execution time seems to be linear with respect to n_hash, and based on errors chart, N=80 is a good choice"
      ],
      "metadata": {
        "id": "CshbXCEGoim7"
      },
      "id": "CshbXCEGoim7"
    },
    {
      "cell_type": "markdown",
      "id": "kDgKhwoPGDOu",
      "metadata": {
        "id": "kDgKhwoPGDOu"
      },
      "source": [
        "#### Signature matrix calculation"
      ]
    },
    {
      "cell_type": "code",
      "execution_count": 62,
      "id": "6D5d5RFYE7Zi",
      "metadata": {
        "colab": {
          "base_uri": "https://localhost:8080/"
        },
        "id": "6D5d5RFYE7Zi",
        "outputId": "6526853e-4044-4643-ce21-04a60ee7c916"
      },
      "outputs": [
        {
          "output_type": "stream",
          "name": "stdout",
          "text": [
            "[('1882931173AVCGYZL8FQQTD940636800', [10651, 44297, 2459, 54094, 37460, 114316, 24661, 41931, 8935, 8962, 20760, 106124, 21426, 3410, 4209, 36325, 17675, 4955, 14501, 31463, 54800, 2198, 14773, 15285, 5952, 32626, 52964, 21859, 13797, 61543, 2896, 79610, 13451, 14726, 11403, 4217, 40437, 4606, 20584, 79893, 1474, 10914, 17365, 10718, 20428, 9663, 2748, 25827, 79270, 17514, 17463, 7834, 34065, 35941, 5962, 13462, 7533, 6658, 21206, 8062, 14939, 2196, 22975, 22369, 36873, 39168, 4693, 8457, 21072, 34857, 25077, 29284, 10456, 2629, 36692, 723, 6560, 6085, 11658, 101639])]\n"
          ]
        }
      ],
      "source": [
        "signatures_calculated = amazon_small.map(lambda p: (p[0], minhash_signature(p[1], 80))).cache()\n",
        "print(signatures_calculated.take(1))"
      ]
    },
    {
      "cell_type": "markdown",
      "id": "KPEx4a_E9Hkn",
      "metadata": {
        "id": "KPEx4a_E9Hkn"
      },
      "source": [
        "## Locally-sensitive hashing"
      ]
    },
    {
      "cell_type": "code",
      "execution_count": 63,
      "id": "lJS93KOUbeja",
      "metadata": {
        "id": "lJS93KOUbeja",
        "colab": {
          "base_uri": "https://localhost:8080/"
        },
        "outputId": "16e0a65f-a7b2-487c-b11e-43fa8d91a555"
      },
      "outputs": [
        {
          "output_type": "stream",
          "name": "stdout",
          "text": [
            "Threshold is at s = (1/b)^(1/r) = 0.473\n"
          ]
        }
      ],
      "source": [
        "# num_hashes should be 80 as discussed, so b*r shoul == 80\n",
        "b = 20 # bands\n",
        "r = 4 # rows\n",
        "\n",
        "print(f'Threshold is at s = (1/b)^(1/r) = {round((1/b)**(1/r), 3)}')"
      ]
    },
    {
      "cell_type": "code",
      "execution_count": 64,
      "id": "MLWSZ-z_VVIL",
      "metadata": {
        "id": "MLWSZ-z_VVIL"
      },
      "outputs": [],
      "source": [
        "def calculate_lsh(signature_row, n_bands, n_cols):\n",
        "    '''\n",
        "    Calculates hashes for sublists of input, lenght of each sublist is n_cols\n",
        "\n",
        "    signature_row: tuple(string of id, list of minhash signatures)\n",
        "    n_bands: number of bands row should be divided\n",
        "    n_cols: number of values per band; n_cols * n_bands should be equal len(signature_row[1])\n",
        "\n",
        "    returns: list of tuples where each tuple is (hash value, ID). Lenght of list is n_bands\n",
        "    '''\n",
        "    assert n_cols * n_bands == len(signature_row[1]), \"n_cols * n_bands should be equal len(signature_row[1])\"\n",
        "\n",
        "    res = []\n",
        "    pointer = 0\n",
        "    while pointer < len(signature_row[1]):\n",
        "        temp_list = signature_row[1][pointer: pointer+n_cols]\n",
        "        hash_val = int(hashlib.sha1(str(temp_list).encode()).hexdigest(), 16) % 10**10\n",
        "        res.append((hash_val, signature_row[0]))\n",
        "        pointer += n_cols\n",
        "    return res"
      ]
    },
    {
      "cell_type": "code",
      "execution_count": 65,
      "id": "-oKQXkAbUvkW",
      "metadata": {
        "id": "-oKQXkAbUvkW",
        "colab": {
          "base_uri": "https://localhost:8080/"
        },
        "outputId": "5ba10e18-2644-4a32-e950-c385d6be08ab"
      },
      "outputs": [
        {
          "output_type": "stream",
          "name": "stdout",
          "text": [
            "[(6856193494, '1882931173AVCGYZL8FQQTD940636800')]\n"
          ]
        }
      ],
      "source": [
        "lsh_matrix = signatures_calculated.flatMap(lambda x: (calculate_lsh(x, b, r))).cache()\n",
        "print(lsh_matrix.take(1))"
      ]
    },
    {
      "cell_type": "markdown",
      "id": "jAuf5Jy5hfhG",
      "metadata": {
        "id": "jAuf5Jy5hfhG"
      },
      "source": [
        "### Finding candidate pairs"
      ]
    },
    {
      "cell_type": "code",
      "execution_count": 66,
      "id": "e8Ha2bkybMrt",
      "metadata": {
        "id": "e8Ha2bkybMrt",
        "colab": {
          "base_uri": "https://localhost:8080/"
        },
        "outputId": "8f7f9d76-3ea9-4ab0-9e93-590275e68f79"
      },
      "outputs": [
        {
          "output_type": "stream",
          "name": "stdout",
          "text": [
            "[(7219232040, ['0974289108A79QZ7YQFIXG61129075200', 'B0000630MUnan942537600']), (3709864872, ['B0007DVHU2A1RJD10TTI568L973987200', 'B0007DVHU2A1RJD10TTI568L1239321600'])]\n"
          ]
        }
      ],
      "source": [
        "candidate_pairs = (lsh_matrix\n",
        "                   .map(lambda x: (x[0], [x[1]]))\n",
        "                   .reduceByKey(lambda a, b: a+b)\n",
        "                   .filter(lambda r: len(set(r[1]))> 1))\n",
        "print(candidate_pairs.take(2))"
      ]
    },
    {
      "cell_type": "markdown",
      "id": "8NjgW6zBDE60",
      "metadata": {
        "id": "8NjgW6zBDE60"
      },
      "source": [
        "### Similarity calculated among candidate pairs"
      ]
    },
    {
      "cell_type": "code",
      "execution_count": 67,
      "id": "co5KYsdtpxPD",
      "metadata": {
        "id": "co5KYsdtpxPD"
      },
      "outputs": [],
      "source": [
        "def similarity_of_candidates(candidates_row, temp_dict_signatures):\n",
        "    '''\n",
        "    Calculates Jaccard similarity between candidate pairs\n",
        "    candidates_row: tuple of format (hash_int, [id1, id2, id3, ...])\n",
        "    temp_dict_signatures: dict, where key is id and value is hash signature\n",
        "\n",
        "    returns list of triples (id1, id2, similarity_rate)\n",
        "    '''\n",
        "    res_lst = []\n",
        "    # To avoid duplicated ids\n",
        "    set_ids = list(set(candidates_row[1]))\n",
        "\n",
        "    for i in range(len(set_ids)):\n",
        "        for j in range(i+1, len(set_ids)):\n",
        "            id1, id2 = set_ids[i], set_ids[j]\n",
        "            signature1, signature2 = temp_dict_signatures[id1], temp_dict_signatures[id2]\n",
        "            res = jaccard_similarity(signature1, signature2)\n",
        "            res_lst.append((id1, id2, res))\n",
        "    return res_lst"
      ]
    },
    {
      "cell_type": "code",
      "execution_count": 68,
      "id": "XQ16wLc9UvCz",
      "metadata": {
        "colab": {
          "base_uri": "https://localhost:8080/"
        },
        "id": "XQ16wLc9UvCz",
        "outputId": "453f5bc3-0b6a-49da-bb32-fcf801f48569"
      },
      "outputs": [
        {
          "output_type": "execute_result",
          "data": {
            "text/plain": [
              "[('9687968478nan1050796800', '9687968478A2SZGIUKIIVDMS1128988800', 1.0),\n",
              " ('1555714137A1E8S4DQ0P4DVH949449600', '1555714137nan949449600', 1.0)]"
            ]
          },
          "metadata": {},
          "execution_count": 68
        }
      ],
      "source": [
        "temp_dict_signatures = signatures_calculated.collectAsMap()\n",
        "\n",
        "(candidate_pairs\n",
        " .flatMap(lambda x: similarity_of_candidates(x, temp_dict_signatures))\n",
        " .distinct()\n",
        " .takeOrdered(2, key=lambda s: -s[2]))"
      ]
    },
    {
      "cell_type": "markdown",
      "source": [
        "# Final execution"
      ],
      "metadata": {
        "id": "NASwWSHCc4wH"
      },
      "id": "NASwWSHCc4wH"
    },
    {
      "cell_type": "markdown",
      "source": [
        "## Execution on big dataset"
      ],
      "metadata": {
        "id": "Gn2abol7-eDR"
      },
      "id": "Gn2abol7-eDR"
    },
    {
      "cell_type": "markdown",
      "source": [
        "Combining algorithms from above and running on the bigger dataset"
      ],
      "metadata": {
        "id": "MMO4JOHTk4hL"
      },
      "id": "MMO4JOHTk4hL"
    },
    {
      "cell_type": "code",
      "execution_count": 24,
      "id": "54hiPgIzC5jg",
      "metadata": {
        "id": "54hiPgIzC5jg",
        "colab": {
          "base_uri": "https://localhost:8080/"
        },
        "outputId": "af4819a5-f0b3-4066-9a50-bb9a8208543f"
      },
      "outputs": [
        {
          "output_type": "stream",
          "name": "stdout",
          "text": [
            "small_books100000.csv - Read 100001 lines, successfully parsed 100000 lines, failed to parse 0 lines\n"
          ]
        }
      ],
      "source": [
        "amazon_bigger = load_data(create_small_csv(DF_SIZE_FINAL_EXECUTION))"
      ]
    },
    {
      "cell_type": "code",
      "execution_count": 25,
      "id": "jj1SMHK_C5pN",
      "metadata": {
        "id": "jj1SMHK_C5pN",
        "colab": {
          "base_uri": "https://localhost:8080/"
        },
        "outputId": "d7ec5905-b372-4cd6-c900-eeaa65fc889e"
      },
      "outputs": [
        {
          "output_type": "stream",
          "name": "stdout",
          "text": [
            "[('1882931173AVCGYZL8FQQTD940636800', [10651, 44297, 2459, 54094, 37460, 114316, 24661, 41931, 8935, 8962, 20760, 106124, 21426, 3410, 4209, 36325, 17675, 4955, 14501, 31463, 54800, 2198, 14773, 15285, 5952, 32626, 52964, 21859, 13797, 61543, 2896, 79610, 13451, 14726, 11403, 4217, 40437, 4606, 20584, 79893, 1474, 10914, 17365, 10718, 20428, 9663, 2748, 25827, 79270, 17514, 17463, 7834, 34065, 35941, 5962, 13462, 7533, 6658, 21206, 8062, 14939, 2196, 22975, 22369, 36873, 39168, 4693, 8457, 21072, 34857, 25077, 29284, 10456, 2629, 36692, 723, 6560, 6085, 11658, 101639])]\n"
          ]
        }
      ],
      "source": [
        "signatures_calculated_bigger = (amazon_bigger\n",
        "                                .map(lambda p: (p[0], minhash_signature(p[1], 80)))\n",
        "                                .cache())\n",
        "print(signatures_calculated_bigger.take(1))"
      ]
    },
    {
      "cell_type": "code",
      "execution_count": 26,
      "id": "50075403-247a-4546-b925-9350a06069ab",
      "metadata": {
        "id": "50075403-247a-4546-b925-9350a06069ab",
        "colab": {
          "base_uri": "https://localhost:8080/"
        },
        "outputId": "efd39b8a-c805-4515-a0e6-cd88b69ad1a2"
      },
      "outputs": [
        {
          "output_type": "stream",
          "name": "stdout",
          "text": [
            "[(6856193494, '1882931173AVCGYZL8FQQTD940636800')]\n"
          ]
        }
      ],
      "source": [
        "lsh_matrix_bigger = (signatures_calculated_bigger\n",
        "                     .flatMap(lambda x: (calculate_lsh(x, b, r)))\n",
        "                     .cache())\n",
        "print(lsh_matrix_bigger.take(1))"
      ]
    },
    {
      "cell_type": "code",
      "execution_count": 27,
      "id": "04fecd0b-fd0e-4fa3-bb95-065f87b75464",
      "metadata": {
        "id": "04fecd0b-fd0e-4fa3-bb95-065f87b75464",
        "colab": {
          "base_uri": "https://localhost:8080/"
        },
        "outputId": "fab5fdc8-f5ba-4f0c-bf63-a4e3fbe2b16e"
      },
      "outputs": [
        {
          "output_type": "stream",
          "name": "stdout",
          "text": [
            "[(416074360, ['1882931173AVCGYZL8FQQTD940636800', 'B000KIT9U4A2EQC9MEICEEK11062633600'])]\n"
          ]
        }
      ],
      "source": [
        "candidate_pairs_bigger = (lsh_matrix_bigger\n",
        "                          .map(lambda x: (x[0], [x[1]]))\n",
        "                          .reduceByKey(lambda a, b: a+b)\n",
        "                          .filter(lambda r: len(set(r[1]))> 1))\n",
        "\n",
        "print(candidate_pairs_bigger.take(1))"
      ]
    },
    {
      "cell_type": "code",
      "source": [
        "temp_dict_signatures = signatures_calculated_bigger.collectAsMap()\n",
        "amazon_bigger_dict = amazon_bigger.collectAsMap()"
      ],
      "metadata": {
        "id": "2CiQ-nr3fM2Y"
      },
      "id": "2CiQ-nr3fM2Y",
      "execution_count": 28,
      "outputs": []
    },
    {
      "cell_type": "code",
      "execution_count": 29,
      "id": "7227e62f-3e75-43d3-8b4c-9f009516dceb",
      "metadata": {
        "id": "7227e62f-3e75-43d3-8b4c-9f009516dceb",
        "colab": {
          "base_uri": "https://localhost:8080/"
        },
        "outputId": "15fdf343-0bde-425b-84bd-5bc6db220197"
      },
      "outputs": [
        {
          "output_type": "stream",
          "name": "stdout",
          "text": [
            "[('0793514789AATLRZU07XNK01273622400', 'B0007F2VL4nan924825600', 0.03225806451612903)]\n"
          ]
        }
      ],
      "source": [
        "similarity_calculated_bigger = (candidate_pairs_bigger\n",
        "                                .flatMap(lambda x: similarity_of_candidates(x, temp_dict_signatures))\n",
        "                                .distinct())\n",
        "\n",
        "print(similarity_calculated_bigger.take(1))"
      ]
    },
    {
      "cell_type": "markdown",
      "source": [
        "Choosing as similar lines with Jaccard similarity bigger than threshold"
      ],
      "metadata": {
        "id": "_PrYUl_blNWt"
      },
      "id": "_PrYUl_blNWt"
    },
    {
      "cell_type": "code",
      "source": [
        "merged_rdd = (similarity_calculated_bigger\n",
        "              .filter(lambda x: x[2] > SIMILARITY_THRESHOLD)\n",
        "              .map(lambda x: (x[0], amazon_bigger_dict[x[0]],\n",
        "                              x[1], amazon_bigger_dict[x[1]],\n",
        "                              x[2])))\n",
        "\n",
        "print(\"Random line: \\n\", \"\\n\".join(str(i) for i in merged_rdd.take(1)[0]))\n",
        "print('\\nRandom line with similarity between 0.5 and 0.9: \\n',\n",
        "      \"\\n\".join(str(i) for i in merged_rdd.filter(lambda x: x[4] > 0.5 and\n",
        "                                                  x[4] < 0.9).take(1)[0]))"
      ],
      "metadata": {
        "id": "GbrBi3VG2oL6",
        "colab": {
          "base_uri": "https://localhost:8080/"
        },
        "outputId": "3bca8fc8-6d1d-4c32-9539-9f998a5e207c"
      },
      "id": "GbrBi3VG2oL6",
      "execution_count": 30,
      "outputs": [
        {
          "output_type": "stream",
          "name": "stdout",
          "text": [
            "Random line: \n",
            " B0006DG9OMA3RXB48GSN1CES1349740800\n",
            "This is a wonderful book to read. It was one of the first classics I downloaded to my Kindle & was not disappointed. Would highly recommend it!\n",
            "0333168968A3RXB48GSN1CES1349740800\n",
            "This is a wonderful book to read. It was one of the first classics I downloaded to my Kindle & was not disappointed. Would highly recommend it!\n",
            "1.0\n",
            "\n",
            "Random line with similarity between 0.5 and 0.9: \n",
            " 0786197005A20EEWWSFMZ1PN1248480000\n",
            "\"\"\"I have never told this story nor shall mortal man see this manuscript until I have passed over for eternity. I know that the average human mind will not believe what it can not grasp......\"\"Written in 1912 this book is well written for its time and has intrigued countless generations of readers. I get the feeling that this story is being told over a campfire.Captain Carter is telling the story form memory as an old man of his adventures here on earth and on the planet of Barsoom (Mars). There are encounters with many strain creatures, situations, and yes even a \"\"Princess of Mars.\"\"This is a part is a series by the writer that brought us \"\"Tarzan.\"\" The intro to the book alone will capture your imagination.The Great Book of Tarzan\"\n",
            "0786197005A20EEWWSFMZ1PN1194566400\n",
            "\"\"\"I have never told this story nor shall mortal man see this manuscript until I have passed over for eternity. I know that the average human mind will not believe what it can not grasp......\"\"Written in 1912 this book is well written for its time and has intrigued countless generations of readers. I get the feeling that this story is being told over a campfire.Captain Carter is telling the story form memory as an old man of his adventures here on earth and on the planet of Barsoom (Mars). There are encounters with many strange creatures, situations, and yes even a \"\"Princess of Mars.\"\" The forward to the book alone will capture your imagination.John Carpenter states \"\"In one respect at least the Martians ae happy people; they have no lawers.\"\"This is a part is a series by the writer that brought us \"\"Tarzan.\"\" The intro to the book alone will capture your imagination.The Great Book of Tarzan\"\n",
            "0.7021276595744681\n"
          ]
        }
      ]
    },
    {
      "cell_type": "markdown",
      "source": [
        "### Saving of results"
      ],
      "metadata": {
        "id": "rS1BULwkQLAX"
      },
      "id": "rS1BULwkQLAX"
    },
    {
      "cell_type": "markdown",
      "source": [
        "Generating .csv with found similar pairs and their Jaccard similarities"
      ],
      "metadata": {
        "id": "COvH4tOIlBp4"
      },
      "id": "COvH4tOIlBp4"
    },
    {
      "cell_type": "code",
      "source": [
        "output_folder_path = \"output_folder\"\n",
        "\n",
        "csv_rdd = merged_rdd.map(lambda row: ','.join(map(str, row)))\n",
        "csv_rdd.saveAsTextFile(output_folder_path)\n",
        "\n",
        "merged_csv_path = \"found_pairs.csv\"\n",
        "\n",
        "part_files = [\n",
        "    f for f in os.listdir(output_folder_path)\n",
        "    if f.startswith(\"part-\") and not f.endswith(\".crc\")\n",
        "]\n",
        "\n",
        "with open(merged_csv_path, 'w', encoding='utf-8') as final_file:\n",
        "    final_file.write('Id1,Text1,Id2,Text2,Jaccard_similarity\\n')\n",
        "    for file_name in part_files:\n",
        "        file_path = os.path.join(output_folder_path, file_name)\n",
        "        with open(file_path, 'r', encoding='utf-8') as infile:\n",
        "            for line in infile:\n",
        "                final_file.write(line)\n",
        "\n",
        "shutil.rmtree(output_folder_path)"
      ],
      "metadata": {
        "id": "lKNQgkLV6aEE"
      },
      "id": "lKNQgkLV6aEE",
      "execution_count": 31,
      "outputs": []
    },
    {
      "cell_type": "markdown",
      "source": [
        "## Similarities distribution visualisation"
      ],
      "metadata": {
        "id": "Sy2qAHrCPDne"
      },
      "id": "Sy2qAHrCPDne"
    },
    {
      "cell_type": "code",
      "source": [
        "list_sim = merged_rdd.map(lambda x: x[4]).collect()\n",
        "plt.hist(list_sim, bins=20, edgecolor='black')\n",
        "plt.xlabel(\"Jaccard similarity\")\n",
        "plt.ylabel(\"Frequency\")"
      ],
      "metadata": {
        "id": "9_Va1Xgj3dUM",
        "colab": {
          "base_uri": "https://localhost:8080/",
          "height": 466
        },
        "outputId": "56a5bbab-dc61-4cbc-c30f-a10229b7f1fd"
      },
      "id": "9_Va1Xgj3dUM",
      "execution_count": 39,
      "outputs": [
        {
          "output_type": "execute_result",
          "data": {
            "text/plain": [
              "Text(0, 0.5, 'Frequency')"
            ]
          },
          "metadata": {},
          "execution_count": 39
        },
        {
          "output_type": "display_data",
          "data": {
            "text/plain": [
              "<Figure size 640x480 with 1 Axes>"
            ],
            "image/png": "[encoded data removed]"
          },
          "metadata": {}
        }
      ]
    },
    {
      "cell_type": "markdown",
      "source": [
        "## Scalability with datasize visualization"
      ],
      "metadata": {
        "id": "nCh7mLS3mI5u"
      },
      "id": "nCh7mLS3mI5u"
    },
    {
      "cell_type": "code",
      "source": [
        "def visualise_scalability():\n",
        "    '''\n",
        "    Visualizes time of execution for different DATA_SIZES\n",
        "    '''\n",
        "    time_res = []\n",
        "\n",
        "    for data_size in DATA_SIZES:\n",
        "        start = time.time()\n",
        "\n",
        "        amazon_bigger = load_data(create_small_csv(data_size))\n",
        "        signatures_calculated_bigger = (amazon_bigger\n",
        "                                    .map(lambda p: (p[0], minhash_signature(p[1], 80)))\n",
        "                                    .cache())\n",
        "        lsh_matrix_bigger = (signatures_calculated_bigger\n",
        "                        .flatMap(lambda x: (calculate_lsh(x, b, r)))\n",
        "                        .cache())\n",
        "        candidate_pairs_bigger = (lsh_matrix_bigger\n",
        "                              .map(lambda x: (x[0], [x[1]]))\n",
        "                              .reduceByKey(lambda a, b: a+b)\n",
        "                              .filter(lambda r: len(set(r[1]))> 1))\n",
        "        temp_dict_signatures = signatures_calculated_bigger.collectAsMap()\n",
        "        amazon_bigger_dict = amazon_bigger.collectAsMap()\n",
        "        similarity_calculated_bigger = (candidate_pairs_bigger\n",
        "                                    .flatMap(lambda x: similarity_of_candidates(x, temp_dict_signatures))\n",
        "                                    .distinct())\n",
        "        merged_rdd = (similarity_calculated_bigger\n",
        "                  .filter(lambda x: x[2] > SIMILARITY_THRESHOLD)\n",
        "                  .map(lambda x: (x[0], amazon_bigger_dict[x[0]],\n",
        "                                  x[1], amazon_bigger_dict[x[1]],\n",
        "                                  x[2])))\n",
        "        merged_rdd.collect()\n",
        "\n",
        "        time_res.append(time.time() - start)\n",
        "\n",
        "        print('Finished for datasize: ', data_size)\n",
        "\n",
        "\n",
        "    plt.figure(figsize=(8, 5))\n",
        "    plt.plot(DATA_SIZES, time_res, marker='o', linestyle='-', color='blue')\n",
        "    plt.title(\"Time vs. data size\")\n",
        "    plt.xlabel(\"Number of rows\")\n",
        "    plt.ylabel(\"Time\")\n",
        "    plt.grid(True)\n",
        "    plt.tight_layout()\n",
        "    plt.show()"
      ],
      "metadata": {
        "id": "Lf6-bWYvmMDp"
      },
      "id": "Lf6-bWYvmMDp",
      "execution_count": 69,
      "outputs": []
    },
    {
      "cell_type": "code",
      "source": [
        "# Takes some time\n",
        "visualise_scalability()"
      ],
      "metadata": {
        "colab": {
          "base_uri": "https://localhost:8080/",
          "height": 715
        },
        "id": "wVBfdqOG23JX",
        "outputId": "2e16863c-6387-46ea-cb18-6c7bad8f4cb8"
      },
      "id": "wVBfdqOG23JX",
      "execution_count": 70,
      "outputs": [
        {
          "output_type": "stream",
          "name": "stdout",
          "text": [
            "small_books500.csv - Read 501 lines, successfully parsed 500 lines, failed to parse 0 lines\n",
            "Finished for datasize:  500\n",
            "small_books1000.csv - Read 1001 lines, successfully parsed 1000 lines, failed to parse 0 lines\n",
            "Finished for datasize:  1000\n",
            "small_books3000.csv - Read 3001 lines, successfully parsed 3000 lines, failed to parse 0 lines\n",
            "Finished for datasize:  3000\n",
            "small_books10000.csv - Read 10001 lines, successfully parsed 10000 lines, failed to parse 0 lines\n",
            "Finished for datasize:  10000\n",
            "small_books20000.csv - Read 20001 lines, successfully parsed 20000 lines, failed to parse 0 lines\n",
            "Finished for datasize:  20000\n",
            "small_books50000.csv - Read 50001 lines, successfully parsed 50000 lines, failed to parse 0 lines\n",
            "Finished for datasize:  50000\n"
          ]
        },
        {
          "output_type": "display_data",
          "data": {
            "text/plain": [
              "<Figure size 800x500 with 1 Axes>"
            ],
            "image/png": "[encoded data removed]"
          },
          "metadata": {}
        }
      ]
    }
  ],
  "metadata": {
    "colab": {
      "provenance": [],
      "toc_visible": true
    },
    "kernelspec": {
      "display_name": "Python 3.11",
      "language": "python",
      "name": "python3.11"
    },
    "language_info": {
      "codemirror_mode": {
        "name": "ipython",
        "version": 3
      },
      "file_extension": ".py",
      "mimetype": "text/x-python",
      "name": "python",
      "nbconvert_exporter": "python",
      "pygments_lexer": "ipython3",
      "version": "3.11.9"
    }
  },
  "nbformat": 4,
  "nbformat_minor": 5
}